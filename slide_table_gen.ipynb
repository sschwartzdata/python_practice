{
  "nbformat": 4,
  "nbformat_minor": 0,
  "metadata": {
    "colab": {
      "name": "slide_table_gen.ipynb",
      "provenance": [],
      "authorship_tag": "ABX9TyNSiXYrlXUscvIEJT6wLBfM",
      "include_colab_link": true
    },
    "kernelspec": {
      "name": "python3",
      "display_name": "Python 3"
    },
    "language_info": {
      "name": "python"
    }
  },
  "cells": [
    {
      "cell_type": "markdown",
      "metadata": {
        "id": "view-in-github",
        "colab_type": "text"
      },
      "source": [
        "<a href=\"https://colab.research.google.com/github/sschwartzdata/python_practice/blob/dev/slide_table_gen.ipynb\" target=\"_parent\"><img src=\"https://colab.research.google.com/assets/colab-badge.svg\" alt=\"Open In Colab\"/></a>"
      ]
    },
    {
      "cell_type": "markdown",
      "source": [
        "#Creating a Powerpoint Slide from an Excel file.\n",
        "</br>\n",
        "Template name is 'template1.pptx'\n",
        "</br>\n",
        "The slide from the Master Set that we are using is slide 5.\n"
      ],
      "metadata": {
        "id": "_UmWz4cY19hT"
      }
    },
    {
      "cell_type": "markdown",
      "source": [
        "This example is assuming one sample with metrics. Future updates will expand the capability to include more."
      ],
      "metadata": {
        "id": "JFD_z8kY31YG"
      }
    },
    {
      "cell_type": "markdown",
      "source": [
        ""
      ],
      "metadata": {
        "id": "elJujFxn69Yp"
      }
    },
    {
      "cell_type": "code",
      "source": [
        "from pptx import Presentation\n",
        "prs  = Presentation('template1.pptx')\n",
        "slide = prs.slides.add_slide(prs.slide_layouts[7])\n",
        "#-----------------------\n",
        "for s_ in slide.placeholders:\n",
        "    print('ID = {0:d}, Shape name is \\\n",
        "          \"{1:s}\"'.format(s_.placeholder_format.idx,s_.name))"
      ],
      "metadata": {
        "colab": {
          "base_uri": "https://localhost:8080/"
        },
        "id": "Luc5iMv069sT",
        "outputId": "a852abcf-ab8e-4d6b-f660-0b86cfafda15"
      },
      "execution_count": null,
      "outputs": [
        {
          "output_type": "error",
          "ename": "ModuleNotFoundError",
          "evalue": "ignored",
          "traceback": [
            "\u001b[0;31m---------------------------------------------------------------------------\u001b[0m",
            "\u001b[0;31mModuleNotFoundError\u001b[0m                       Traceback (most recent call last)",
            "\u001b[0;32m<ipython-input-1-175c18bd519a>\u001b[0m in \u001b[0;36m<module>\u001b[0;34m()\u001b[0m\n\u001b[0;32m----> 1\u001b[0;31m \u001b[0;32mfrom\u001b[0m \u001b[0mpptx\u001b[0m \u001b[0;32mimport\u001b[0m \u001b[0mPresentation\u001b[0m\u001b[0;34m\u001b[0m\u001b[0;34m\u001b[0m\u001b[0m\n\u001b[0m\u001b[1;32m      2\u001b[0m \u001b[0mprs\u001b[0m  \u001b[0;34m=\u001b[0m \u001b[0mPresentation\u001b[0m\u001b[0;34m(\u001b[0m\u001b[0;34m'template1.pptx'\u001b[0m\u001b[0;34m)\u001b[0m\u001b[0;34m\u001b[0m\u001b[0;34m\u001b[0m\u001b[0m\n\u001b[1;32m      3\u001b[0m \u001b[0mslide\u001b[0m \u001b[0;34m=\u001b[0m \u001b[0mprs\u001b[0m\u001b[0;34m.\u001b[0m\u001b[0mslides\u001b[0m\u001b[0;34m.\u001b[0m\u001b[0madd_slide\u001b[0m\u001b[0;34m(\u001b[0m\u001b[0mprs\u001b[0m\u001b[0;34m.\u001b[0m\u001b[0mslide_layouts\u001b[0m\u001b[0;34m[\u001b[0m\u001b[0;36m7\u001b[0m\u001b[0;34m]\u001b[0m\u001b[0;34m)\u001b[0m\u001b[0;34m\u001b[0m\u001b[0;34m\u001b[0m\u001b[0m\n\u001b[1;32m      4\u001b[0m \u001b[0;31m#-----------------------\u001b[0m\u001b[0;34m\u001b[0m\u001b[0;34m\u001b[0m\u001b[0;34m\u001b[0m\u001b[0m\n\u001b[1;32m      5\u001b[0m \u001b[0;32mfor\u001b[0m \u001b[0ms_\u001b[0m \u001b[0;32min\u001b[0m \u001b[0mslide\u001b[0m\u001b[0;34m.\u001b[0m\u001b[0mplaceholders\u001b[0m\u001b[0;34m:\u001b[0m\u001b[0;34m\u001b[0m\u001b[0;34m\u001b[0m\u001b[0m\n",
            "\u001b[0;31mModuleNotFoundError\u001b[0m: No module named 'pptx'",
            "",
            "\u001b[0;31m---------------------------------------------------------------------------\u001b[0;32m\nNOTE: If your import is failing due to a missing package, you can\nmanually install dependencies using either !pip or !apt.\n\nTo view examples of installing some common dependencies, click the\n\"Open Examples\" button below.\n\u001b[0;31m---------------------------------------------------------------------------\u001b[0m\n"
          ],
          "errorDetails": {
            "actions": [
              {
                "action": "open_url",
                "actionText": "Open Examples",
                "url": "/notebooks/snippets/importing_libraries.ipynb"
              }
            ]
          }
        }
      ]
    },
    {
      "cell_type": "markdown",
      "source": [
        ""
      ],
      "metadata": {
        "id": "DHZX1vsP6_Yo"
      }
    },
    {
      "cell_type": "code",
      "source": [
        "# Importing packages\n",
        "from pptx import Presentation\n",
        "import openpyxl\n",
        "\n",
        "# Defining template, workbook, and sheet of workbook with values\n",
        "sample_wb = input(\"What is the name of the excel file?\")\n",
        "wb = openpyxl.load_workbook(sample_wb)\n",
        "ws = wb['Sheet1']\n",
        "ppt = Presentation('template1.pptx')\n",
        "\n",
        "layout_metrics = ppt.slide_layouts[7]  # I use layout 'ID=7'\n",
        "tab = prs.slides[7].shapes[1].table    # This is the table on slide 7 in Slide Master\n",
        "\n",
        "\n",
        "new_slide = ppt.slides.add_slide(layout_metrics)\n",
        "\n",
        "# Target 1\n",
        "table.cell(1, 0).text = str(ws['D4'])\n",
        "table.cell(1, 1).text = str(ws['E4'])\n",
        "table.cell(1, 2).text = str(ws['F4'])\n",
        "table.cell(1, 3).text = str(ws['G4'])\n",
        "table.cell(1, 4).text = str(ws['H4'])\n",
        "table.cell(1, 5).text = str(ws['I4'])\n",
        "table.cell(1, 6).text = str(ws['J4'])\n",
        "\n",
        "#Rollup\n",
        "\n",
        "table.cell(2, 0).text = str(ws['D5'])\n",
        "table.cell(2, 1).text = str(ws['E5'])\n",
        "table.cell(2, 2).text = str(ws['F5'])\n",
        "table.cell(2, 3).text = str(ws['G5'])\n",
        "table.cell(2, 4).text = str(ws['H5'])\n",
        "table.cell(2, 5).text = str(ws['I5'])\n",
        "table.cell(2, 6).text = str(ws['J5'])\n",
        "\n",
        "\n",
        "\n",
        "\n",
        "\n",
        "save_path = input(\"Where do you want to save your slide?\")\n",
        "save_name = input(\"What do you want to name your presentation?\")\n",
        "presentation.SaveAs(save_path + save_name + \".pptx\")\n",
        "presentation.Close()\n"
      ],
      "metadata": {
        "id": "GPCQH8wB19Mv"
      },
      "execution_count": null,
      "outputs": []
    },
    {
      "cell_type": "markdown",
      "source": [
        "\n"
      ],
      "metadata": {
        "id": "TodHQ48gFJ1J"
      }
    },
    {
      "cell_type": "code",
      "source": [
        "# Defining a function that converts a number into a column name\n",
        "\n",
        "def excel_style(row, col):\n",
        "    \"\"\" Convert given row and column number to an Excel-style cell name. \"\"\"\n",
        "    LETTERS = 'ABCDEFGHIJKLMNOPQRSTUVWXYZ'\n",
        "    result = []\n",
        "    while col:\n",
        "        col, rem = divmod(col-1, 26)\n",
        "        result[:0] = LETTERS[rem]\n",
        "    return ''.join(result) + str(row)"
      ],
      "metadata": {
        "id": "_kbDoPLsFWVt"
      },
      "execution_count": null,
      "outputs": []
    },
    {
      "cell_type": "code",
      "source": [
        "# Defining a function that fills in the values from the excel file to a given row in the PP table\n",
        "\n",
        "def fill_row(row_num, columns):\n",
        "  for i in range(0, columns):\n",
        "    table.cell(row_num, i).text = str(ws[excel_style(row_num,(3+i))])\n",
        "  return 0\n"
      ],
      "metadata": {
        "id": "lJHynTMqHsm0"
      },
      "execution_count": null,
      "outputs": []
    },
    {
      "cell_type": "code",
      "source": [
        "# Defining a function that takes in the number of targets so the script knows how many rows to create\n",
        "def row_create(targets):\n",
        "  for i in range(0, target):\n",
        "    tab._tbl.append(new_row)\n",
        "  return 0"
      ],
      "metadata": {
        "id": "6jRMyxKdJa7x"
      },
      "execution_count": null,
      "outputs": []
    },
    {
      "cell_type": "code",
      "source": [
        "# Defining a function that fills in the values from the excel file to a given row in the PP table\n",
        "\n",
        "def fill_cells(targets, columns):\n",
        "  for i in range(0,targets):\n",
        "    for j in range(0, columns):\n",
        "      table.cell(i, j).text = str(ws[excel_style(i,(3+j))])\n",
        "  return 0"
      ],
      "metadata": {
        "id": "FfV8GqRaKT8K"
      },
      "execution_count": null,
      "outputs": []
    }
  ]
}