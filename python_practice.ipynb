{
  "nbformat": 4,
  "nbformat_minor": 0,
  "metadata": {
    "colab": {
      "name": "python_practice.ipynb",
      "provenance": [],
      "include_colab_link": true
    },
    "kernelspec": {
      "name": "python3",
      "display_name": "Python 3"
    },
    "language_info": {
      "name": "python"
    }
  },
  "cells": [
    {
      "cell_type": "markdown",
      "metadata": {
        "id": "view-in-github",
        "colab_type": "text"
      },
      "source": [
        "<a href=\"https://colab.research.google.com/github/sschwartzdata/python_practice/blob/main/python_practice.ipynb\" target=\"_parent\"><img src=\"https://colab.research.google.com/assets/colab-badge.svg\" alt=\"Open In Colab\"/></a>"
      ]
    },
    {
      "cell_type": "code",
      "execution_count": null,
      "metadata": {
        "id": "7kbvch1b-BK0"
      },
      "outputs": [],
      "source": [
        ""
      ]
    },
    {
      "cell_type": "markdown",
      "source": [
        "# Reverse Integer\n",
        "Given an integer, return the integer with reversed digits. The integer can be positive or negative."
      ],
      "metadata": {
        "id": "PWJB75xI-Db_"
      }
    },
    {
      "cell_type": "code",
      "source": [
        "def reverse_int(x):\n",
        "  if x < 0:\n",
        "    string = str(x)\n",
        "    rev_str = '-' + string[:0:-1]\n",
        "    return int(rev_str)\n",
        "  else:\n",
        "    string = str(x)\n",
        "    rev_str = string[::-1]\n",
        "    return int(rev_str)\n",
        "\n"
      ],
      "metadata": {
        "id": "-X-pebMU-XrR"
      },
      "execution_count": null,
      "outputs": []
    },
    {
      "cell_type": "code",
      "source": [
        "reverse_int(hjgfjhgjhgjhghj)"
      ],
      "metadata": {
        "colab": {
          "base_uri": "https://localhost:8080/",
          "height": 177
        },
        "id": "sk7LnkSM_bkr",
        "outputId": "82a3ea58-b037-462b-92da-7c31de1df87e"
      },
      "execution_count": null,
      "outputs": [
        {
          "output_type": "error",
          "ename": "NameError",
          "evalue": "ignored",
          "traceback": [
            "\u001b[0;31m---------------------------------------------------------------------------\u001b[0m",
            "\u001b[0;31mNameError\u001b[0m                                 Traceback (most recent call last)",
            "\u001b[0;32m<ipython-input-6-38f04488bf86>\u001b[0m in \u001b[0;36m<module>\u001b[0;34m()\u001b[0m\n\u001b[0;32m----> 1\u001b[0;31m \u001b[0mreverse_int\u001b[0m\u001b[0;34m(\u001b[0m\u001b[0mhjgfjhgjhgjhghj\u001b[0m\u001b[0;34m)\u001b[0m\u001b[0;34m\u001b[0m\u001b[0;34m\u001b[0m\u001b[0m\n\u001b[0m",
            "\u001b[0;31mNameError\u001b[0m: name 'hjgfjhgjhgjhghj' is not defined"
          ]
        }
      ]
    },
    {
      "cell_type": "code",
      "source": [
        ""
      ],
      "metadata": {
        "id": "6vKC7pO1_eFd"
      },
      "execution_count": null,
      "outputs": []
    },
    {
      "cell_type": "markdown",
      "source": [
        "# Average Word Length\n",
        "Define a function that finds the average length of a word in a string. Be careful of puctuation."
      ],
      "metadata": {
        "id": "N0xKtcPm_rgt"
      }
    },
    {
      "cell_type": "code",
      "source": [
        "def ave_word_len(sent):\n",
        "  #remove punctuation\n",
        "  for ele in sent:\n",
        "    if ele in \".,':;?!\":\n",
        "      sent = sent.replace(ele,\"\")\n",
        "  # find the sum of the words\n",
        "  words = sent.split()\n",
        "  total_sum = 0\n",
        "  total_words = len(words)\n",
        "  average = sum(len(word) for word in words)/len(words)\n",
        "  return round(average,2)\n"
      ],
      "metadata": {
        "id": "Jjo0N6cV_5jp"
      },
      "execution_count": null,
      "outputs": []
    },
    {
      "cell_type": "code",
      "source": [
        "ave_word_len(\"ssssssssssssssssssssssssssssssssssssssssssssssssssssssssssssssssssssssssssssssssssssdddddddddddddddddsdddddddddddddddddddddddddddddddddddddddddddddddddddddddddddddddddddddddddddddddddddddddddddddddddddddddddddddssssssssssssssssssssssssssssssssssssssssssssssssssssssssssssssssssssssssssssssssssssssssssssssssssssssssssssssssssssssssssssssssssssssssssssssssssssssssssssssssssssssssssssssssssssssssssssssssssssssssssssssssssssssssssssssssssssssssssssssssssssssssssssssssssssssssssssssssssssssssssssssssssssssssssssssssssssssssssssssssssssssssssssssssssssssssssssssssssssssssssssssssssssssssssssssssssssssssssssssssssssssssssssssssssssssssssssssssssssssssssssssssssssssssssssssssssssssssssssssssssssssssssssssssssssssssssssssssssssssssssssssssssssssssssssssssssssssssssssssssssssssssssssssssssssssssssssssssssssssssssssssssssssssssssssssssssssssssssssssssssssssssssssssssssssssssssssssssssssssssssssssssssssssssssssssssssssssssssssssssssssssssssssssssssssssssssssssssssssssssssssssssssssssssssssssssssssssssssssssssssssssssssssssssssssssssssssssssssssssssssssssssssssssssssssssssssssssssssssssssssssssssssssssssssssssssssssssssssssssssssssssssssssssssssssssssssssssssssssssssssssssssssssssssssssssssssssssssssssssssssssssssssssssssssssssssssssssssssssssssssssssssssssssssssssssssssssssssssssssssssssssssssssssssssssssssssssssssssssssssssssssssssssssssssssssssssssssssssssssssssssssssssssssssssssssssssssssssssssssssssssssssssssssssssssssssssssssssssssssssssssssssssssssssssssssssssssssssssssssssssssooooooworddd\")"
      ],
      "metadata": {
        "colab": {
          "base_uri": "https://localhost:8080/"
        },
        "id": "S-JQcPyBAviL",
        "outputId": "84445f7c-dec8-4bb8-aeca-f403e60a6677"
      },
      "execution_count": null,
      "outputs": [
        {
          "output_type": "execute_result",
          "data": {
            "text/plain": [
              "1507.0"
            ]
          },
          "metadata": {},
          "execution_count": 11
        }
      ]
    },
    {
      "cell_type": "code",
      "source": [
        ""
      ],
      "metadata": {
        "id": "j1Bn7ZieA7ZO"
      },
      "execution_count": null,
      "outputs": []
    },
    {
      "cell_type": "markdown",
      "source": [
        "# Valid Palindrome\n",
        "Given a non-empty string s, you may delete at most one characher"
      ],
      "metadata": {
        "id": "qKvKJLAdC10A"
      }
    },
    {
      "cell_type": "code",
      "source": [
        "def palindrome_checker(s):\n",
        "  if s == s[::-1]:\n",
        "    return True\n",
        "  else:\n",
        "    for i in range(0, len(s)):\n",
        "      new_s = s[:i:] + s[i+1::]\n",
        "      if new_s == new_s[::-1]:\n",
        "        return True\n",
        "        break\n",
        "      else:\n",
        "        pass\n",
        "    return False"
      ],
      "metadata": {
        "id": "jMG8B0zHDBUY"
      },
      "execution_count": null,
      "outputs": []
    },
    {
      "cell_type": "code",
      "source": [
        "palindrome_checker(\"orange\")"
      ],
      "metadata": {
        "colab": {
          "base_uri": "https://localhost:8080/"
        },
        "id": "enP5FP-9D710",
        "outputId": "22b6f878-bd11-46ac-8e98-738b3b9fec9d"
      },
      "execution_count": null,
      "outputs": [
        {
          "output_type": "execute_result",
          "data": {
            "text/plain": [
              "False"
            ]
          },
          "metadata": {},
          "execution_count": 14
        }
      ]
    },
    {
      "cell_type": "markdown",
      "source": [
        "#Monotonic Array\n",
        "Given an array of integers, check whether the arra is monotonic"
      ],
      "metadata": {
        "id": "Zh8zVGbVESeH"
      }
    },
    {
      "cell_type": "code",
      "source": [
        "def monotonic(arr):\n",
        "  for i in range(0, len(arr)-1):\n",
        "    return all(arr[i] <= arr[i+1]) or all(arr[i] >= arr[i+1]) "
      ],
      "metadata": {
        "id": "vFFy0etpEIMe"
      },
      "execution_count": null,
      "outputs": []
    },
    {
      "cell_type": "code",
      "source": [
        "monotonic([1,2,3,4,5,5,6])"
      ],
      "metadata": {
        "colab": {
          "base_uri": "https://localhost:8080/",
          "height": 272
        },
        "id": "Vp-bwReqFzF5",
        "outputId": "829bd322-ff4e-46c7-9925-49eff7466dbc"
      },
      "execution_count": null,
      "outputs": [
        {
          "output_type": "error",
          "ename": "TypeError",
          "evalue": "ignored",
          "traceback": [
            "\u001b[0;31m---------------------------------------------------------------------------\u001b[0m",
            "\u001b[0;31mTypeError\u001b[0m                                 Traceback (most recent call last)",
            "\u001b[0;32m<ipython-input-16-227c157d6ee0>\u001b[0m in \u001b[0;36m<module>\u001b[0;34m()\u001b[0m\n\u001b[0;32m----> 1\u001b[0;31m \u001b[0mmonotonic\u001b[0m\u001b[0;34m(\u001b[0m\u001b[0;34m[\u001b[0m\u001b[0;36m1\u001b[0m\u001b[0;34m,\u001b[0m\u001b[0;36m2\u001b[0m\u001b[0;34m,\u001b[0m\u001b[0;36m3\u001b[0m\u001b[0;34m,\u001b[0m\u001b[0;36m4\u001b[0m\u001b[0;34m,\u001b[0m\u001b[0;36m5\u001b[0m\u001b[0;34m,\u001b[0m\u001b[0;36m5\u001b[0m\u001b[0;34m,\u001b[0m\u001b[0;36m6\u001b[0m\u001b[0;34m]\u001b[0m\u001b[0;34m)\u001b[0m\u001b[0;34m\u001b[0m\u001b[0;34m\u001b[0m\u001b[0m\n\u001b[0m",
            "\u001b[0;32m<ipython-input-15-9127f932fd65>\u001b[0m in \u001b[0;36mmonotonic\u001b[0;34m(arr)\u001b[0m\n\u001b[1;32m      1\u001b[0m \u001b[0;32mdef\u001b[0m \u001b[0mmonotonic\u001b[0m\u001b[0;34m(\u001b[0m\u001b[0marr\u001b[0m\u001b[0;34m)\u001b[0m\u001b[0;34m:\u001b[0m\u001b[0;34m\u001b[0m\u001b[0;34m\u001b[0m\u001b[0m\n\u001b[1;32m      2\u001b[0m   \u001b[0;32mfor\u001b[0m \u001b[0mi\u001b[0m \u001b[0;32min\u001b[0m \u001b[0mrange\u001b[0m\u001b[0;34m(\u001b[0m\u001b[0;36m0\u001b[0m\u001b[0;34m,\u001b[0m \u001b[0mlen\u001b[0m\u001b[0;34m(\u001b[0m\u001b[0marr\u001b[0m\u001b[0;34m)\u001b[0m\u001b[0;34m-\u001b[0m\u001b[0;36m1\u001b[0m\u001b[0;34m)\u001b[0m\u001b[0;34m:\u001b[0m\u001b[0;34m\u001b[0m\u001b[0;34m\u001b[0m\u001b[0m\n\u001b[0;32m----> 3\u001b[0;31m     \u001b[0;32mreturn\u001b[0m \u001b[0mall\u001b[0m\u001b[0;34m(\u001b[0m\u001b[0marr\u001b[0m\u001b[0;34m[\u001b[0m\u001b[0mi\u001b[0m\u001b[0;34m]\u001b[0m \u001b[0;34m<=\u001b[0m \u001b[0marr\u001b[0m\u001b[0;34m[\u001b[0m\u001b[0mi\u001b[0m\u001b[0;34m+\u001b[0m\u001b[0;36m1\u001b[0m\u001b[0;34m]\u001b[0m\u001b[0;34m)\u001b[0m \u001b[0;32mor\u001b[0m \u001b[0mall\u001b[0m\u001b[0;34m(\u001b[0m\u001b[0marr\u001b[0m\u001b[0;34m[\u001b[0m\u001b[0mi\u001b[0m\u001b[0;34m]\u001b[0m \u001b[0;34m>=\u001b[0m \u001b[0marr\u001b[0m\u001b[0;34m[\u001b[0m\u001b[0mi\u001b[0m\u001b[0;34m+\u001b[0m\u001b[0;36m1\u001b[0m\u001b[0;34m]\u001b[0m\u001b[0;34m)\u001b[0m\u001b[0;34m\u001b[0m\u001b[0;34m\u001b[0m\u001b[0m\n\u001b[0m",
            "\u001b[0;31mTypeError\u001b[0m: 'bool' object is not iterable"
          ]
        }
      ]
    },
    {
      "cell_type": "code",
      "source": [
        "def monotonic(arr):\n",
        "    return (all(arr[i] <= arr[i+1] for i in range(0, len(arr)-1)) or all(arr[i] >= arr[i+1] for i in range(0, len(arr)-1)))"
      ],
      "metadata": {
        "id": "CMds2EH1F2wa"
      },
      "execution_count": null,
      "outputs": []
    },
    {
      "cell_type": "code",
      "source": [
        "monotonic([1,2,3,4,3,5,6,8])"
      ],
      "metadata": {
        "colab": {
          "base_uri": "https://localhost:8080/"
        },
        "id": "ECMjOfmTGS_o",
        "outputId": "d7a0c14e-9da3-4b0a-e95b-816d61e8f323"
      },
      "execution_count": null,
      "outputs": [
        {
          "output_type": "execute_result",
          "data": {
            "text/plain": [
              "False"
            ]
          },
          "metadata": {},
          "execution_count": 19
        }
      ]
    },
    {
      "cell_type": "markdown",
      "source": [
        "# Matched and Mismatched Words\n",
        "Return all matched and mismatched words from two strings"
      ],
      "metadata": {
        "id": "ncjImZI2HLlA"
      }
    },
    {
      "cell_type": "code",
      "source": [
        "def match_mismatch(sent1, sent2):\n",
        "  sent1 = sent1.lower()\n",
        "  sent2 = sent2.lower()\n",
        "  #first break down into lists of words\n",
        "  punct = \"!?',.<>:;()*&^%$#@\"\n",
        "  for ele in sent1:\n",
        "    if ele in punct:\n",
        "      sent1 = sent1.replace(ele,\"\")\n",
        "  for ele in sent2:\n",
        "    if ele in punct:\n",
        "      sent2 = sent1.replace(ele,\"\")\n",
        "  words1 = sent1.split()\n",
        "  words2 = sent2.split()\n",
        "  #now to compare\n",
        "  match = ()\n",
        "  mismatch = ()\n",
        "  for word in words1:\n",
        "    if word in words2:\n",
        "      match.append(word)\n",
        "    else:\n",
        "      mismatch.append(word)\n",
        "  # now to append all remaining words in sentence 2 to mismatch\n",
        "  for word in words2:\n",
        "    if (word not in match) and (word not in mismatch):\n",
        "      mismatch.append(word)\n",
        "  return print('The matching words are {match} and the mismatched words are {mismatch}')"
      ],
      "metadata": {
        "id": "nqWL_svJGVLt"
      },
      "execution_count": null,
      "outputs": []
    },
    {
      "cell_type": "code",
      "source": [
        "match_mismatch('Bunny is the best!','Lion and bunny are the best')"
      ],
      "metadata": {
        "colab": {
          "base_uri": "https://localhost:8080/",
          "height": 309
        },
        "id": "PWzFSvpEGlgA",
        "outputId": "ad40e628-543e-41da-ee2a-27be4176d50a"
      },
      "execution_count": null,
      "outputs": [
        {
          "output_type": "error",
          "ename": "AttributeError",
          "evalue": "ignored",
          "traceback": [
            "\u001b[0;31m---------------------------------------------------------------------------\u001b[0m",
            "\u001b[0;31mAttributeError\u001b[0m                            Traceback (most recent call last)",
            "\u001b[0;32m<ipython-input-29-46a0f8a18321>\u001b[0m in \u001b[0;36m<module>\u001b[0;34m()\u001b[0m\n\u001b[0;32m----> 1\u001b[0;31m \u001b[0mmatch_mismatch\u001b[0m\u001b[0;34m(\u001b[0m\u001b[0;34m'Bunny is the best!'\u001b[0m\u001b[0;34m,\u001b[0m\u001b[0;34m'Lion and bunny are the best'\u001b[0m\u001b[0;34m)\u001b[0m\u001b[0;34m\u001b[0m\u001b[0;34m\u001b[0m\u001b[0m\n\u001b[0m",
            "\u001b[0;32m<ipython-input-28-ea1603e947b0>\u001b[0m in \u001b[0;36mmatch_mismatch\u001b[0;34m(sent1, sent2)\u001b[0m\n\u001b[1;32m     17\u001b[0m   \u001b[0;32mfor\u001b[0m \u001b[0mword\u001b[0m \u001b[0;32min\u001b[0m \u001b[0mwords1\u001b[0m\u001b[0;34m:\u001b[0m\u001b[0;34m\u001b[0m\u001b[0;34m\u001b[0m\u001b[0m\n\u001b[1;32m     18\u001b[0m     \u001b[0;32mif\u001b[0m \u001b[0mword\u001b[0m \u001b[0;32min\u001b[0m \u001b[0mwords2\u001b[0m\u001b[0;34m:\u001b[0m\u001b[0;34m\u001b[0m\u001b[0;34m\u001b[0m\u001b[0m\n\u001b[0;32m---> 19\u001b[0;31m       \u001b[0mmatch\u001b[0m\u001b[0;34m.\u001b[0m\u001b[0mappend\u001b[0m\u001b[0;34m(\u001b[0m\u001b[0mword\u001b[0m\u001b[0;34m)\u001b[0m\u001b[0;34m\u001b[0m\u001b[0;34m\u001b[0m\u001b[0m\n\u001b[0m\u001b[1;32m     20\u001b[0m     \u001b[0;32melse\u001b[0m\u001b[0;34m:\u001b[0m\u001b[0;34m\u001b[0m\u001b[0;34m\u001b[0m\u001b[0m\n\u001b[1;32m     21\u001b[0m       \u001b[0mmismatch\u001b[0m\u001b[0;34m.\u001b[0m\u001b[0mappend\u001b[0m\u001b[0;34m(\u001b[0m\u001b[0mword\u001b[0m\u001b[0;34m)\u001b[0m\u001b[0;34m\u001b[0m\u001b[0;34m\u001b[0m\u001b[0m\n",
            "\u001b[0;31mAttributeError\u001b[0m: 'tuple' object has no attribute 'append'"
          ]
        }
      ]
    },
    {
      "cell_type": "markdown",
      "source": [
        "# Prime Numbers\n",
        "Return all prime numbers up to n"
      ],
      "metadata": {
        "id": "wHE_qCkaKSQK"
      }
    },
    {
      "cell_type": "code",
      "source": [
        "def prime_num(n):\n",
        "  prime_nums = []\n",
        "  n = int(n)\n",
        "  if n<=1:\n",
        "    return print('There are no primes less than 2')\n",
        "  for num in range(1,n):\n",
        "    for i in range(2,num//2):\n",
        "      if num % i == 0:\n",
        "        break\n",
        "    else:\n",
        "      prime_nums.append(num)\n",
        "  return prime_nums"
      ],
      "metadata": {
        "id": "uMR8tEw9Gqq6"
      },
      "execution_count": null,
      "outputs": []
    },
    {
      "cell_type": "code",
      "source": [
        "prime_num(1000000)"
      ],
      "metadata": {
        "id": "c0N08yL4LMXj",
        "colab": {
          "base_uri": "https://localhost:8080/"
        },
        "outputId": "fb280058-c3d5-463b-a771-afb2a31b0d0d"
      },
      "execution_count": null,
      "outputs": [
        {
          "output_type": "error",
          "ename": "NameError",
          "evalue": "ignored",
          "traceback": [
            "\u001b[0;31m---------------------------------------------------------------------------\u001b[0m",
            "\u001b[0;31mNameError\u001b[0m                                 Traceback (most recent call last)",
            "\u001b[0;32m<ipython-input-1-d42b51d960d5>\u001b[0m in \u001b[0;36m<module>\u001b[0;34m()\u001b[0m\n\u001b[0;32m----> 1\u001b[0;31m \u001b[0mprime_num\u001b[0m\u001b[0;34m(\u001b[0m\u001b[0;36m1000000\u001b[0m\u001b[0;34m)\u001b[0m\u001b[0;34m\u001b[0m\u001b[0;34m\u001b[0m\u001b[0m\n\u001b[0m",
            "\u001b[0;31mNameError\u001b[0m: name 'prime_num' is not defined"
          ]
        }
      ]
    },
    {
      "cell_type": "markdown",
      "source": [
        "# Linear Search Algorithm\n",
        "Returns the first instance of a target in an array"
      ],
      "metadata": {
        "id": "dt_If1wRPJeI"
      }
    },
    {
      "cell_type": "code",
      "source": [
        "def linear_search(arr, target):\n",
        "  n = len(arr)\n",
        "  for i in range(0, n):\n",
        "    if arr[i] == target:\n",
        "      return i\n",
        "    else:\n",
        "      pass\n",
        "  return print(f'{target} is not in the given array.')"
      ],
      "metadata": {
        "id": "_Ew9_4n7LOgh"
      },
      "execution_count": null,
      "outputs": []
    },
    {
      "cell_type": "code",
      "source": [
        "linear_search([1,2,3,4,5,6,6,7,3,2,5,6,7,2,10,2,2,5],10)"
      ],
      "metadata": {
        "id": "Bh0sVEp9P4ST"
      },
      "execution_count": null,
      "outputs": []
    },
    {
      "cell_type": "markdown",
      "source": [
        "#Fibonacci\n",
        "Return the Fibonacci sequence up to the number n."
      ],
      "metadata": {
        "id": "CQw4WbN4QO14"
      }
    },
    {
      "cell_type": "code",
      "source": [
        "def fibonacci(n):\n",
        "  fib = [1,1]\n",
        "  if n == 1:\n",
        "    return [1]\n",
        "  if n == 2:\n",
        "    return fib\n",
        "  else:\n",
        "    while len(fib) < n:\n",
        "      for i in range (2,n):\n",
        "        new_num = fib[i-2] + fib[i-1]\n",
        "        fib.append(new_num)\n",
        "    return fib\n"
      ],
      "metadata": {
        "id": "qWDtB4W7P_G2"
      },
      "execution_count": null,
      "outputs": []
    },
    {
      "cell_type": "code",
      "source": [
        "fibonacci(10)"
      ],
      "metadata": {
        "id": "G2jQlq9kRVPl"
      },
      "execution_count": null,
      "outputs": []
    },
    {
      "cell_type": "markdown",
      "source": [
        "# Interchange the first and last elements of a list"
      ],
      "metadata": {
        "id": "KbXohcVbRyqk"
      }
    },
    {
      "cell_type": "code",
      "source": [
        "def switch(arr):\n",
        "  first, last = arr[0], arr[-1]\n",
        "  arr[0] = last\n",
        "  arr[-1] = first\n",
        "  return arr"
      ],
      "metadata": {
        "id": "NRFsAa28RXpX"
      },
      "execution_count": null,
      "outputs": []
    },
    {
      "cell_type": "code",
      "source": [
        "switch([1,2,3,4,5])"
      ],
      "metadata": {
        "id": "YE5GyEw6SIEv"
      },
      "execution_count": null,
      "outputs": []
    },
    {
      "cell_type": "markdown",
      "source": [
        "# Find the minimum of the sum of two numbers in an array"
      ],
      "metadata": {
        "id": "RaPbsuqOSdBW"
      }
    },
    {
      "cell_type": "code",
      "source": [
        "def min_sum(arr):\n",
        "  min_sum = arr[0] + arr[1]\n",
        "  if len(arr)<1:\n",
        "    return print(\"Need atleast two elements to sum,\")\n",
        "  for i in range(0,len(arr)-1):\n",
        "    for j in range (i+1, len(arr)):\n",
        "      if arr[i] + arr[j] < min_sum:\n",
        "        min_sum = arr[i] + arr[j]\n",
        "      else:\n",
        "        pass\n",
        "  return min_sum"
      ],
      "metadata": {
        "id": "Qk6fs6NdSKWt"
      },
      "execution_count": null,
      "outputs": []
    },
    {
      "cell_type": "code",
      "source": [
        "min_sum([1,2,3,1,2,3,10])"
      ],
      "metadata": {
        "id": "8yCHOqX2VKWy"
      },
      "execution_count": null,
      "outputs": []
    },
    {
      "cell_type": "markdown",
      "source": [
        "# Check if a string is a palindrome"
      ],
      "metadata": {
        "id": "_R_zZlILVcg8"
      }
    },
    {
      "cell_type": "code",
      "source": [
        "def pal_check(string):\n",
        "  rev_string = string[::-1]\n",
        "  return string == rev_string"
      ],
      "metadata": {
        "id": "EDd4UHQvVh0s"
      },
      "execution_count": null,
      "outputs": []
    },
    {
      "cell_type": "code",
      "source": [
        "pal_check(\"lol\")"
      ],
      "metadata": {
        "id": "ZvPHWvI_VuFn"
      },
      "execution_count": null,
      "outputs": []
    },
    {
      "cell_type": "markdown",
      "source": [
        "# Find all numbers divisible by 5 and 7"
      ],
      "metadata": {
        "id": "uj-m-IubWJVR"
      }
    },
    {
      "cell_type": "code",
      "source": [
        "def div_check(n):\n",
        "  if (n % 7 == 0) and (n % 5 != 0):\n",
        "    return True\n",
        "  else:\n",
        "    return False\n"
      ],
      "metadata": {
        "id": "CbAk3avBVwQp"
      },
      "execution_count": null,
      "outputs": []
    },
    {
      "cell_type": "code",
      "source": [
        "div_check(21)"
      ],
      "metadata": {
        "id": "a5xEA7d5WnXS"
      },
      "execution_count": null,
      "outputs": []
    },
    {
      "cell_type": "markdown",
      "source": [
        "# Given n, generate a dictionary containing i : i*i"
      ],
      "metadata": {
        "id": "6v-TY4wrXzA5"
      }
    },
    {
      "cell_type": "code",
      "source": [
        "def squares(n):\n",
        "  square_dict = {}\n",
        "  for i in range(0,n+1):\n",
        "    square_dict[i] = i*i\n",
        "  return square_dict"
      ],
      "metadata": {
        "id": "DGWFPNjpWpr4"
      },
      "execution_count": null,
      "outputs": []
    },
    {
      "cell_type": "code",
      "source": [
        "squares(5)"
      ],
      "metadata": {
        "id": "AEVJWEYYYvtM"
      },
      "execution_count": null,
      "outputs": []
    },
    {
      "cell_type": "markdown",
      "source": [
        "#Remove the ith character of a string"
      ],
      "metadata": {
        "id": "FrV9mIz5ZVOx"
      }
    },
    {
      "cell_type": "code",
      "source": [
        "def remove_element(string, num):\n",
        "  if num > len(string):\n",
        "    return print('The string is not that long')\n",
        "  else:\n",
        "    new_string = string.remove(num)\n",
        "    return new_string\n"
      ],
      "metadata": {
        "id": "Zamc6qQLYx3D"
      },
      "execution_count": null,
      "outputs": []
    },
    {
      "cell_type": "code",
      "source": [
        "remove_element('Bunny',0)"
      ],
      "metadata": {
        "colab": {
          "base_uri": "https://localhost:8080/",
          "height": 290
        },
        "id": "kQJ_tHXXaHA1",
        "outputId": "80bfa6fa-8428-45bf-c3cd-8c5c29f1c6a5"
      },
      "execution_count": null,
      "outputs": [
        {
          "output_type": "error",
          "ename": "AttributeError",
          "evalue": "ignored",
          "traceback": [
            "\u001b[0;31m---------------------------------------------------------------------------\u001b[0m",
            "\u001b[0;31mAttributeError\u001b[0m                            Traceback (most recent call last)",
            "\u001b[0;32m<ipython-input-25-646d4800ef96>\u001b[0m in \u001b[0;36m<module>\u001b[0;34m()\u001b[0m\n\u001b[0;32m----> 1\u001b[0;31m \u001b[0mremove_element\u001b[0m\u001b[0;34m(\u001b[0m\u001b[0;34m'Bunny'\u001b[0m\u001b[0;34m,\u001b[0m\u001b[0;36m0\u001b[0m\u001b[0;34m)\u001b[0m\u001b[0;34m\u001b[0m\u001b[0;34m\u001b[0m\u001b[0m\n\u001b[0m",
            "\u001b[0;32m<ipython-input-22-41c38c7ff09d>\u001b[0m in \u001b[0;36mremove_element\u001b[0;34m(string, num)\u001b[0m\n\u001b[1;32m      3\u001b[0m     \u001b[0;32mreturn\u001b[0m \u001b[0mprint\u001b[0m\u001b[0;34m(\u001b[0m\u001b[0;34m'The string is not that long'\u001b[0m\u001b[0;34m)\u001b[0m\u001b[0;34m\u001b[0m\u001b[0;34m\u001b[0m\u001b[0m\n\u001b[1;32m      4\u001b[0m   \u001b[0;32melse\u001b[0m\u001b[0;34m:\u001b[0m\u001b[0;34m\u001b[0m\u001b[0;34m\u001b[0m\u001b[0m\n\u001b[0;32m----> 5\u001b[0;31m     \u001b[0mnew_string\u001b[0m \u001b[0;34m=\u001b[0m \u001b[0mstring\u001b[0m\u001b[0;34m.\u001b[0m\u001b[0mremove\u001b[0m\u001b[0;34m(\u001b[0m\u001b[0mnum\u001b[0m\u001b[0;34m)\u001b[0m\u001b[0;34m\u001b[0m\u001b[0;34m\u001b[0m\u001b[0m\n\u001b[0m\u001b[1;32m      6\u001b[0m     \u001b[0;32mreturn\u001b[0m \u001b[0mnew_string\u001b[0m\u001b[0;34m\u001b[0m\u001b[0;34m\u001b[0m\u001b[0m\n",
            "\u001b[0;31mAttributeError\u001b[0m: 'str' object has no attribute 'remove'"
          ]
        }
      ]
    },
    {
      "cell_type": "markdown",
      "source": [
        "#Turn a list into a tuple"
      ],
      "metadata": {
        "id": "SwKHXlAvasDK"
      }
    },
    {
      "cell_type": "code",
      "source": [
        "def tup_transform(arr):\n",
        "  tup = tuple(i for i in arr)\n",
        "  return tup\n"
      ],
      "metadata": {
        "id": "AXxKZ9djaKrh"
      },
      "execution_count": null,
      "outputs": []
    },
    {
      "cell_type": "code",
      "source": [
        "tup_transform([1,2,3,4])"
      ],
      "metadata": {
        "id": "w9VwNWn1axfU"
      },
      "execution_count": null,
      "outputs": []
    },
    {
      "cell_type": "markdown",
      "source": [
        "#Turn a comma seperated string into a list"
      ],
      "metadata": {
        "id": "71wUFrLiaxzV"
      }
    },
    {
      "cell_type": "code",
      "source": [
        "def create_list(str):\n",
        "  w = str.split(',')\n",
        "  return w"
      ],
      "metadata": {
        "id": "m1tfFPqOa4On"
      },
      "execution_count": null,
      "outputs": []
    },
    {
      "cell_type": "code",
      "source": [
        "create_list(\"a,s,d,f,g,q\")"
      ],
      "metadata": {
        "id": "0pzDPHRUvZ5r"
      },
      "execution_count": null,
      "outputs": []
    },
    {
      "cell_type": "markdown",
      "source": [
        "#Define a class with two methods\n",
        "get string and print string"
      ],
      "metadata": {
        "id": "lkUh0HFswOMv"
      }
    },
    {
      "cell_type": "code",
      "source": [
        "class New_Class:\n",
        "  def __init__(self):\n",
        "    self.getstring = input(\"Enter a word or phrase:\")\n",
        "    self.printstring = print(self.getstring.upper())"
      ],
      "metadata": {
        "id": "2iBqCj2FwOd-"
      },
      "execution_count": null,
      "outputs": []
    },
    {
      "cell_type": "code",
      "source": [
        "word = New_Class\n",
        "word.printstring()"
      ],
      "metadata": {
        "id": "2a77Y8QsxHtu"
      },
      "execution_count": null,
      "outputs": []
    },
    {
      "cell_type": "markdown",
      "source": [
        "#Given a string \"columnTitile\" that represents the column's title, return the responding column number"
      ],
      "metadata": {
        "id": "g33mMo27wO6N"
      }
    },
    {
      "cell_type": "code",
      "source": [
        "def column_number(str):\n",
        "  dic = {'A':1, 'B':2, 'C':3, 'D':4, 'E':5, 'F':6, 'G':7, 'H':8, 'I':9, 'J':10,\n",
        "         'K':11, 'L':12, 'M':13, 'N':14, 'O':15, 'P':16, 'Q':17, 'R':18, 'S':19,\n",
        "         'T':20, 'U':21, 'V':22, 'W':23, 'X':24, 'Y':25, 'Z':26}\n",
        "  column_num = 0\n",
        "  for i in range(0,len(str)):\n",
        "    column_num += (26 ** (len(str)-(i+1))) * dic[str[i]]\n",
        "  return column_num\n"
      ],
      "metadata": {
        "id": "TX4KQn3pwPGR"
      },
      "execution_count": null,
      "outputs": []
    },
    {
      "cell_type": "code",
      "source": [
        "column_number('AA')"
      ],
      "metadata": {
        "id": "d4_BUlcI2BqX"
      },
      "execution_count": null,
      "outputs": []
    },
    {
      "cell_type": "markdown",
      "source": [
        "# Is there a majority element in the array and what is it?"
      ],
      "metadata": {
        "id": "9NLjDQCEwPT5"
      }
    },
    {
      "cell_type": "code",
      "source": [
        "def majority(arr):\n",
        "  for i in range(0,len(arr)-1):\n",
        "    count = 1\n",
        "    for j in range(i+1, len(arr)):\n",
        "      if arr[i] == arr[j]:\n",
        "        count += 1\n",
        "    if count > len(arr)//2:\n",
        "      return print(f'The majority element is {arr[1]}, wich occurs {count} times.')\n",
        "  return print('There is no majority element in this array.')"
      ],
      "metadata": {
        "id": "AI5iqjsHwPgZ"
      },
      "execution_count": null,
      "outputs": []
    },
    {
      "cell_type": "code",
      "source": [
        "majority([1,1,1,1,2,3,4,6,42,1,1])"
      ],
      "metadata": {
        "id": "7H8t69QDvdV9"
      },
      "execution_count": null,
      "outputs": []
    },
    {
      "cell_type": "markdown",
      "source": [
        "#N factorial trailing zeros\n",
        "Given integer n, how many trailing zeros does its factorial have?"
      ],
      "metadata": {
        "id": "sSq8GMza_lmk"
      }
    },
    {
      "cell_type": "code",
      "source": [
        "def trailing_zeros(n):\n",
        "  num_zeros = 0\n",
        "  power_of_five = 5\n",
        "  while power_of_five <= n:\n",
        "    num_zeros += (n//power_of_five)\n",
        "    power_of_five *= 5\n",
        "  return num_zeros\n"
      ],
      "metadata": {
        "id": "IQLF5Dmv6j4L"
      },
      "execution_count": null,
      "outputs": []
    },
    {
      "cell_type": "code",
      "source": [
        "trailing_zeros(100)"
      ],
      "metadata": {
        "id": "ub4GzjkMAT8B"
      },
      "execution_count": null,
      "outputs": []
    },
    {
      "cell_type": "code",
      "source": [
        ""
      ],
      "metadata": {
        "id": "EdQ0A3m9AXKm"
      },
      "execution_count": null,
      "outputs": []
    }
  ]
}